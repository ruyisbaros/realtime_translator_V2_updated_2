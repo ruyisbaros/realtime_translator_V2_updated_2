{
 "cells": [
  {
   "cell_type": "code",
   "execution_count": null,
   "metadata": {},
   "outputs": [],
   "source": [
    "import torch\n",
    "import os\n",
    "\n",
    "def extract_model_weights(input_path, output_path):\n",
    "    \"\"\"Extract only model weights from a fine-tuned XTTS checkpoint.\"\"\"\n",
    "    checkpoint = torch.load(input_path, map_location='cpu')\n",
    "\n",
    "    # Extract model weights only\n",
    "    if 'model' in checkpoint:\n",
    "        state_dict = checkpoint['model']\n",
    "    elif 'state_dict' in checkpoint:\n",
    "        state_dict = checkpoint['state_dict']\n",
    "    else:\n",
    "        raise KeyError(\"No 'model' or 'state_dict' found in the checkpoint.\")\n",
    "\n",
    "    # Save only the state_dict\n",
    "    torch.save(state_dict, output_path)\n",
    "    print(f\"✅ Extracted model weights saved to: {output_path}\")\n",
    "\n",
    "# Example usage\n",
    "input_checkpoint = '/workspace/fine_tuning_output/best_model.pth'\n",
    "output_checkpoint = '/workspace/fine_tuning_output/best_model_weights.pth'\n",
    "\n",
    "extract_model_weights(input_checkpoint, output_checkpoint)\n",
    "\n",
    "\n",
    "print(f\"🚀 Deleted original checkpoint: {input_checkpoint}\")\n"
   ]
  }
 ],
 "metadata": {
  "kernelspec": {
   "display_name": "tts_env",
   "language": "python",
   "name": "python3"
  },
  "language_info": {
   "name": "python",
   "version": "3.10.16"
  }
 },
 "nbformat": 4,
 "nbformat_minor": 2
}
