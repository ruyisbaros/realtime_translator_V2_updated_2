{
 "cells": [
  {
   "cell_type": "code",
   "execution_count": 7,
   "metadata": {},
   "outputs": [],
   "source": [
    "#!pip install torchaudio librosa matplotlib numpy pandas\n",
    "#!pip install wget\n"
   ]
  },
  {
   "cell_type": "code",
   "execution_count": null,
   "metadata": {},
   "outputs": [],
   "source": [
    "#!git clone https://github.com/jaywalnut310/vits.git\n"
   ]
  },
  {
   "cell_type": "code",
   "execution_count": 1,
   "metadata": {},
   "outputs": [
    {
     "name": "stderr",
     "output_type": "stream",
     "text": [
      "/home/ahmet/anaconda3/envs/tts_env/lib/python3.10/site-packages/TTS/api.py:70: UserWarning: `gpu` will be deprecated. Please use `tts.to(device)` instead.\n",
      "  warnings.warn(\"`gpu` will be deprecated. Please use `tts.to(device)` instead.\")\n"
     ]
    },
    {
     "name": "stdout",
     "output_type": "stream",
     "text": [
      " > tts_models/multilingual/multi-dataset/xtts_v2 is already downloaded.\n"
     ]
    },
    {
     "name": "stderr",
     "output_type": "stream",
     "text": [
      "/home/ahmet/anaconda3/envs/tts_env/lib/python3.10/site-packages/tqdm/auto.py:21: TqdmWarning: IProgress not found. Please update jupyter and ipywidgets. See https://ipywidgets.readthedocs.io/en/stable/user_install.html\n",
      "  from .autonotebook import tqdm as notebook_tqdm\n"
     ]
    },
    {
     "name": "stdout",
     "output_type": "stream",
     "text": [
      " > Using model: xtts\n"
     ]
    },
    {
     "name": "stderr",
     "output_type": "stream",
     "text": [
      "/home/ahmet/anaconda3/envs/tts_env/lib/python3.10/site-packages/TTS/tts/layers/xtts/xtts_manager.py:5: FutureWarning: You are using `torch.load` with `weights_only=False` (the current default value), which uses the default pickle module implicitly. It is possible to construct malicious pickle data which will execute arbitrary code during unpickling (See https://github.com/pytorch/pytorch/blob/main/SECURITY.md#untrusted-models for more details). In a future release, the default value for `weights_only` will be flipped to `True`. This limits the functions that could be executed during unpickling. Arbitrary objects will no longer be allowed to be loaded via this mode unless they are explicitly allowlisted by the user via `torch.serialization.add_safe_globals`. We recommend you start setting `weights_only=True` for any use case where you don't have full control of the loaded file. Please open an issue on GitHub for any issues related to this experimental feature.\n",
      "  self.speakers = torch.load(speaker_file_path)\n",
      "/home/ahmet/anaconda3/envs/tts_env/lib/python3.10/site-packages/TTS/utils/io.py:54: FutureWarning: You are using `torch.load` with `weights_only=False` (the current default value), which uses the default pickle module implicitly. It is possible to construct malicious pickle data which will execute arbitrary code during unpickling (See https://github.com/pytorch/pytorch/blob/main/SECURITY.md#untrusted-models for more details). In a future release, the default value for `weights_only` will be flipped to `True`. This limits the functions that could be executed during unpickling. Arbitrary objects will no longer be allowed to be loaded via this mode unless they are explicitly allowlisted by the user via `torch.serialization.add_safe_globals`. We recommend you start setting `weights_only=True` for any use case where you don't have full control of the loaded file. Please open an issue on GitHub for any issues related to this experimental feature.\n",
      "  return torch.load(f, map_location=map_location, **kwargs)\n",
      "GPT2InferenceModel has generative capabilities, as `prepare_inputs_for_generation` is explicitly overwritten. However, it doesn't directly inherit from `GenerationMixin`. From 👉v4.50👈 onwards, `PreTrainedModel` will NOT inherit from `GenerationMixin`, and this model will lose the ability to call `generate` and other related functions.\n",
      "  - If you're using `trust_remote_code=True`, you can get rid of this warning by loading the model with an auto class. See https://huggingface.co/docs/transformers/en/model_doc/auto#auto-classes\n",
      "  - If you are the owner of the model architecture code, please modify your model class such that it inherits from `GenerationMixin` (after `PreTrainedModel`, otherwise you'll get an exception).\n",
      "  - If you are not the owner of the model architecture class, please contact the model code owner to update it.\n"
     ]
    }
   ],
   "source": [
    "from TTS.api import TTS\n",
    "tts = TTS(\"tts_models/multilingual/multi-dataset/xtts_v2\", gpu=True)"
   ]
  },
  {
   "cell_type": "code",
   "execution_count": 2,
   "metadata": {},
   "outputs": [
    {
     "name": "stdout",
     "output_type": "stream",
     "text": [
      "Device: cuda\n"
     ]
    }
   ],
   "source": [
    "import torch\n",
    "device = torch.device(\"cuda\" if torch.cuda.is_available() else \"cpu\")\n",
    "print(f\"Device: {device}\")"
   ]
  },
  {
   "cell_type": "code",
   "execution_count": 38,
   "metadata": {},
   "outputs": [],
   "source": [
    "#torch.cuda.empty_cache()"
   ]
  },
  {
   "cell_type": "code",
   "execution_count": 9,
   "metadata": {},
   "outputs": [
    {
     "name": "stdout",
     "output_type": "stream",
     "text": [
      " > Text splitted to sentences.\n",
      "['Abi gercekten cok salaksin.']\n",
      " > Processing time: 0.5636017322540283\n",
      " > Real-time factor: 0.21100614975891951\n"
     ]
    },
    {
     "data": {
      "text/plain": [
       "'output_5.wav'"
      ]
     },
     "execution_count": 9,
     "metadata": {},
     "output_type": "execute_result"
    }
   ],
   "source": [
    "tts.tts_to_file(text=\"Abi gercekten cok salaksin.\",\n",
    "                file_path=\"output_5.wav\",\n",
    "                speaker_wav=\"huly.wav\",\n",
    "                language=\"tr\")\n",
    "\n"
   ]
  },
  {
   "cell_type": "code",
   "execution_count": 24,
   "metadata": {},
   "outputs": [],
   "source": [
    "import json\n",
    "import os\n",
    "\n",
    "def parse_metadata_with_wavs(metadata_path, wavs_folder):\n",
    "    \"\"\"\n",
    "    Reads a metadata.txt file and aligns transcriptions with actual wav files.\n",
    "    \n",
    "    Now includes **speaker names** in the final dictionary.\n",
    "\n",
    "    Returns:\n",
    "    - A dictionary {wav_filename: {\"text\": transcription, \"speaker\": speaker_name}}\n",
    "    \"\"\"\n",
    "    speaker_name = os.path.basename(os.path.dirname(metadata_path))  # ✅ Extract speaker from folder name\n",
    "\n",
    "    # ✅ Step 1: Extract Transcriptions (Order Only)\n",
    "    transcriptions = []\n",
    "    with open(metadata_path, \"r\", encoding=\"utf-8\") as f:\n",
    "        current_text = []\n",
    "        for line in f:\n",
    "            line = line.strip()\n",
    "\n",
    "            if \"|\" in line:\n",
    "                # ✅ New entry → Save the last one\n",
    "                if current_text:\n",
    "                    transcriptions.append(\" \".join(current_text).strip())\n",
    "\n",
    "                # ✅ Extract transcription only (ignore filename)\n",
    "                parts = line.split(\"|\", 1)\n",
    "                current_text = [parts[1].strip()] if len(parts) > 1 else []\n",
    "            else:\n",
    "                # ✅ Continuation of the previous line\n",
    "                current_text.append(line.strip())\n",
    "\n",
    "        # ✅ Save the last transcription\n",
    "        if current_text:\n",
    "            transcriptions.append(\" \".join(current_text).strip())\n",
    "\n",
    "    # ✅ Step 2: Extract `.wav` filenames in order\n",
    "    wav_files = sorted([f for f in os.listdir(wavs_folder) if f.endswith(\".wav\")])\n",
    "\n",
    "    # ✅ Step 3: Zip & Align\n",
    "    if len(wav_files) != len(transcriptions):\n",
    "        print(f\"⚠ Warning: Mismatch in number of WAV files ({len(wav_files)}) vs transcriptions ({len(transcriptions)}) in {metadata_path}\")\n",
    "\n",
    "    aligned_data = {wav: {\"text\": transcript, \"speaker\": speaker_name} for wav, transcript in zip(wav_files, transcriptions)}\n",
    "\n",
    "    return aligned_data\n",
    "\n",
    "\n"
   ]
  },
  {
   "cell_type": "code",
   "execution_count": 25,
   "metadata": {},
   "outputs": [
    {
     "name": "stdout",
     "output_type": "stream",
     "text": [
      "✅ Processed 82017 audio files across all speakers.\n",
      "✅ All speakers' transcriptions saved to: m_ailabs_transcriptions_with_speakers.json\n"
     ]
    }
   ],
   "source": [
    "import json\n",
    "import os\n",
    "\n",
    "# ✅ Root directory for processed dataset\n",
    "ROOT_DIR = \"m_ailabs_temp/de\"\n",
    "OUTPUT_FILE = \"m_ailabs_transcriptions_with_speakers.json\"\n",
    "\n",
    "# ✅ Store all speakers' data\n",
    "all_speakers_data = {}\n",
    "\n",
    "# ✅ Loop over each speaker's folder\n",
    "for speaker_folder in os.listdir(ROOT_DIR):\n",
    "    speaker_path = os.path.join(ROOT_DIR, speaker_folder)\n",
    "\n",
    "    # ✅ Ensure it's a folder\n",
    "    if not os.path.isdir(speaker_path):\n",
    "        continue\n",
    "\n",
    "    # ✅ Find all metadata.txt and corresponding wavs folders\n",
    "    metadata_files = {}\n",
    "    wav_folders = {}\n",
    "\n",
    "    for item in os.listdir(speaker_path):\n",
    "        item_path = os.path.join(speaker_path, item)\n",
    "\n",
    "        if item.endswith(\"_metadata.txt\"):  # ✅ Identify metadata files\n",
    "            situation_name = item.replace(\"_metadata.txt\", \"\")  # Extract situation name\n",
    "            metadata_files[situation_name] = item_path\n",
    "\n",
    "        elif item.endswith(\"_wavs\"):  # ✅ Identify wav folders\n",
    "            situation_name = item.replace(\"_wavs\", \"\")  # Extract situation name\n",
    "            wav_folders[situation_name] = item_path\n",
    "\n",
    "    # ✅ Now we process each situation (aligning metadata with wavs)\n",
    "    for situation, metadata_file in metadata_files.items():\n",
    "        if situation in wav_folders:  # ✅ Ensure matching wavs exist\n",
    "            wavs_folder = wav_folders[situation]\n",
    "            speaker_data = parse_metadata_with_wavs(metadata_file, wavs_folder)\n",
    "            all_speakers_data.update(speaker_data)\n",
    "\n",
    "print(f\"✅ Processed {len(all_speakers_data)} audio files across all speakers.\")\n",
    "\n",
    "# ✅ Save full dataset to JSON\n",
    "with open(OUTPUT_FILE, \"w\", encoding=\"utf-8\") as f:\n",
    "    json.dump(all_speakers_data, f, ensure_ascii=False, indent=4)\n",
    "\n",
    "print(f\"✅ All speakers' transcriptions saved to: {OUTPUT_FILE}\")\n"
   ]
  },
  {
   "cell_type": "code",
   "execution_count": null,
   "metadata": {},
   "outputs": [],
   "source": []
  }
 ],
 "metadata": {
  "kernelspec": {
   "display_name": "tts_env",
   "language": "python",
   "name": "python3"
  },
  "language_info": {
   "codemirror_mode": {
    "name": "ipython",
    "version": 3
   },
   "file_extension": ".py",
   "mimetype": "text/x-python",
   "name": "python",
   "nbconvert_exporter": "python",
   "pygments_lexer": "ipython3",
   "version": "3.10.16"
  }
 },
 "nbformat": 4,
 "nbformat_minor": 2
}
